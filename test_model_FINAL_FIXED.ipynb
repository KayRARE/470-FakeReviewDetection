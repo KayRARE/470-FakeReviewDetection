{
 "cells": [
  {
   "cell_type": "markdown",
   "id": "edd927a9",
   "metadata": {},
   "source": [
    "# Test Model Notebook\n",
    "Bu dosya eğitilen modelleri yükler ve test seti üzerinde değerlendirme yapar."
   ]
  },
  {
   "cell_type": "code",
   "execution_count": 2,
   "id": "84ecaa19",
   "metadata": {},
   "outputs": [],
   "source": [
    "import pandas as pd\n",
    "import numpy as np\n",
    "import re\n",
    "import joblib\n",
    "from sklearn.feature_extraction.text import TfidfVectorizer\n",
    "from sklearn.model_selection import train_test_split\n",
    "from sklearn.metrics import classification_report, confusion_matrix\n",
    "from scipy.sparse import hstack"
   ]
  },
  {
   "cell_type": "code",
   "execution_count": 3,
   "id": "7f45a88e",
   "metadata": {},
   "outputs": [],
   "source": [
    "# Veri seti yükleme ve temizleme\n",
    "df = pd.read_csv(\"data/fake_reviews_dataset.csv\")\n",
    "df.rename(columns={\"text_\": \"review\"}, inplace=True)\n",
    "df[\"review\"] = df[\"review\"].astype(str)\n",
    "\n",
    "df['label'] = df['label'].map({'CG': 0, 'OR': 1})\n",
    "df = df.rename(columns={'text_': 'review'})\n",
    "def clean_text(text):\n",
    "    text = str(text).lower()\n",
    "    text = re.sub(r'<.*?>', '', text)\n",
    "    text = re.sub(r'[^a-z\\s]', '', text)\n",
    "    return text\n",
    "df['clean_review'] = df['review'].apply(clean_text)\n",
    "df['review_length'] = df['review'].apply(lambda x: len(str(x)))\n",
    "df['exclamation_count'] = df['review'].apply(lambda x: str(x).count('!'))\n",
    "df['capital_word_ratio'] = df['review'].apply(lambda x: len([w for w in str(x).split() if w.isupper()]) / (len(str(x).split()) + 1e-5))"
   ]
  },
  {
   "cell_type": "code",
   "execution_count": 4,
   "id": "64b6ecb3",
   "metadata": {},
   "outputs": [],
   "source": [
    "\n",
    "# TF-IDF vektörleştiriciyi yükle\n",
    "tfidf = joblib.load('models/tfidf_vectorizer.pkl')\n",
    "\n",
    "# TF-IDF transform (fit yapılmaz!)\n",
    "X_tfidf = tfidf.transform(df['clean_review'])\n"
   ]
  },
  {
   "cell_type": "code",
   "execution_count": 5,
   "id": "c1ff9ea2",
   "metadata": {},
   "outputs": [],
   "source": [
    "\n",
    "# Eğitimde kaydedilen test verilerini yükle\n",
    "X_test = joblib.load('models/X_test_combined.pkl')\n",
    "y_test = joblib.load('models/y_test_labels.pkl')\n"
   ]
  },
  {
   "cell_type": "code",
   "execution_count": 6,
   "id": "24eb02e2",
   "metadata": {},
   "outputs": [],
   "source": [
    "\n",
    "# Eğitimde kaydedilen LSTM test verilerini yükle\n",
    "#X_test_lstm = joblib.load(\"models/X_test_lstm.pkl\")\n",
    "#y_test_lstm = joblib.load(\"models/y_test_lstm.pkl\")\n"
   ]
  },
  {
   "cell_type": "code",
   "execution_count": 7,
   "id": "f2b30d93",
   "metadata": {},
   "outputs": [],
   "source": [
    "\n",
    "# Tokenizer ve test verisini yükle\n",
    "#tokenizer = joblib.load(\"models/lstm_tokenizer.pkl\")\n",
    "#X_test_lstm = joblib.load(\"models/X_test_lstm.pkl\")\n",
    "#y_test_lstm = joblib.load(\"models/y_test_lstm.pkl\")\n"
   ]
  },
  {
   "cell_type": "code",
   "execution_count": 8,
   "id": "1a46d292",
   "metadata": {},
   "outputs": [
    {
     "name": "stderr",
     "output_type": "stream",
     "text": [
      "C:\\Users\\kayra\\anaconda3\\Lib\\site-packages\\joblib\\externals\\loky\\backend\\context.py:136: UserWarning: Could not find the number of physical cores for the following reason:\n",
      "[WinError 2] Sistem belirtilen dosyayı bulamıyor\n",
      "Returning the number of logical cores instead. You can silence this warning by setting LOKY_MAX_CPU_COUNT to the number of cores you want to use.\n",
      "  warnings.warn(\n",
      "  File \"C:\\Users\\kayra\\anaconda3\\Lib\\site-packages\\joblib\\externals\\loky\\backend\\context.py\", line 257, in _count_physical_cores\n",
      "    cpu_info = subprocess.run(\n",
      "               ^^^^^^^^^^^^^^^\n",
      "  File \"C:\\Users\\kayra\\anaconda3\\Lib\\subprocess.py\", line 548, in run\n",
      "    with Popen(*popenargs, **kwargs) as process:\n",
      "         ^^^^^^^^^^^^^^^^^^^^^^^^^^^\n",
      "  File \"C:\\Users\\kayra\\anaconda3\\Lib\\subprocess.py\", line 1026, in __init__\n",
      "    self._execute_child(args, executable, preexec_fn, close_fds,\n",
      "  File \"C:\\Users\\kayra\\anaconda3\\Lib\\subprocess.py\", line 1538, in _execute_child\n",
      "    hp, ht, pid, tid = _winapi.CreateProcess(executable, args,\n",
      "                       ^^^^^^^^^^^^^^^^^^^^^^^^^^^^^^^^^^^^^^^\n"
     ]
    },
    {
     "name": "stdout",
     "output_type": "stream",
     "text": [
      "LightGBM Classification Report:\n",
      "              precision    recall  f1-score   support\n",
      "\n",
      "           0       0.91      0.88      0.89       804\n",
      "           1       0.88      0.92      0.90       814\n",
      "\n",
      "    accuracy                           0.90      1618\n",
      "   macro avg       0.90      0.90      0.90      1618\n",
      "weighted avg       0.90      0.90      0.90      1618\n",
      "\n",
      "ROC-AUC: 0.9694968034520274\n"
     ]
    },
    {
     "data": {
      "image/png": "[encoded data removed]",
      "text/plain": [
       "<Figure size 500x400 with 2 Axes>"
      ]
     },
     "metadata": {},
     "output_type": "display_data"
    }
   ],
   "source": [
    "import joblib\n",
    "from sklearn.metrics import classification_report, confusion_matrix, roc_auc_score\n",
    "import matplotlib.pyplot as plt\n",
    "import seaborn as sns\n",
    "\n",
    "# Modeli yükle\n",
    "lgb_model = joblib.load(\"models/lightgbm_model.pkl\")\n",
    "y_pred_lgb = lgb_model.predict(X_test.toarray())\n",
    "y_prob_lgb = lgb_model.predict_proba(X_test.toarray())[:, 1]\n",
    "\n",
    "print(\"LightGBM Classification Report:\")\n",
    "print(classification_report(y_test, y_pred_lgb))\n",
    "print(\"ROC-AUC:\", roc_auc_score(y_test, y_prob_lgb))\n",
    "\n",
    "# Confusion Matrix\n",
    "conf = confusion_matrix(y_test, y_pred_lgb)\n",
    "plt.figure(figsize=(5, 4))\n",
    "sns.heatmap(conf, annot=True, fmt='d', cmap='Blues', xticklabels=['Real', 'Fake'], yticklabels=['Real', 'Fake'])\n",
    "plt.xlabel(\"Tahmin\")\n",
    "plt.ylabel(\"Gerçek\")\n",
    "plt.title(\"LightGBM Confusion Matrix\")\n",
    "plt.tight_layout()\n",
    "plt.savefig(\"plots/lightgbm_confusion_matrix_2nd_dataset.png\")\n"
   ]
  },
  {
   "cell_type": "code",
   "execution_count": 9,
   "id": "3e51b768",
   "metadata": {},
   "outputs": [],
   "source": [
    "# [Yorumlandı - yanlış kullanım]\n",
    "# # Özellik çıkarımı ve veri ayırma\n",
    "# tfidf = TfidfVectorizer(ngram_range=(1, 2), max_features=5000)\n",
    "# X_tfidf = tfidf.fit_transform(df['clean_review'])\n",
    "# X_numeric = df[['review_length', 'exclamation_count', 'capital_word_ratio']].values\n",
    "# X_combined = hstack([X_tfidf, X_numeric])\n",
    "# y = df['label'].values\n",
    "# X_train, X_test, y_train, y_test = train_test_split(X_combined, y, test_size=0.2, random_state=42, stratify=y)"
   ]
  },
  {
   "cell_type": "code",
   "execution_count": 10,
   "id": "b4cf067f",
   "metadata": {},
   "outputs": [
    {
     "name": "stdout",
     "output_type": "stream",
     "text": [
      "              precision    recall  f1-score   support\n",
      "\n",
      "           0       0.81      0.85      0.83       804\n",
      "           1       0.84      0.81      0.83       814\n",
      "\n",
      "    accuracy                           0.83      1618\n",
      "   macro avg       0.83      0.83      0.83      1618\n",
      "weighted avg       0.83      0.83      0.83      1618\n",
      "\n"
     ]
    }
   ],
   "source": [
    "# Modeli yükle ve test et\n",
    "nb_model = joblib.load('models/naive_bayes_model.pkl')\n",
    "y_pred = nb_model.predict(X_test)\n",
    "print(classification_report(y_test, y_pred))"
   ]
  },
  {
   "cell_type": "code",
   "execution_count": 11,
   "id": "c4f3dbf6-92cb-4759-a38e-8615e84b4762",
   "metadata": {},
   "outputs": [
    {
     "name": "stdout",
     "output_type": "stream",
     "text": [
      "==== Naive Bayes ====\n",
      "              precision    recall  f1-score   support\n",
      "\n",
      "           0     0.8131    0.8495    0.8309       804\n",
      "           1     0.8445    0.8071    0.8254       814\n",
      "\n",
      "    accuracy                         0.8282      1618\n",
      "   macro avg     0.8288    0.8283    0.8281      1618\n",
      "weighted avg     0.8289    0.8282    0.8281      1618\n",
      "\n",
      "Accuracy: 0.8281829419035847\n",
      "F1 Score: 0.8253768844221105\n",
      "Confusion Matrix:\n",
      " [[683 121]\n",
      " [157 657]]\n",
      "\n",
      "\n",
      "==== SVM ====\n",
      "              precision    recall  f1-score   support\n",
      "\n",
      "           0     0.8989    0.8843    0.8915       804\n",
      "           1     0.8875    0.9017    0.8946       814\n",
      "\n",
      "    accuracy                         0.8931      1618\n",
      "   macro avg     0.8932    0.8930    0.8931      1618\n",
      "weighted avg     0.8932    0.8931    0.8931      1618\n",
      "\n",
      "Accuracy: 0.8930778739184178\n",
      "F1 Score: 0.894576477757465\n",
      "Confusion Matrix:\n",
      " [[711  93]\n",
      " [ 80 734]]\n",
      "\n",
      "\n",
      "==== LightGBM ====\n",
      "              precision    recall  f1-score   support\n",
      "\n",
      "           0     0.9132    0.8769    0.8947       804\n",
      "           1     0.8830    0.9177    0.9000       814\n",
      "\n",
      "    accuracy                         0.8974      1618\n",
      "   macro avg     0.8981    0.8973    0.8973      1618\n",
      "weighted avg     0.8980    0.8974    0.8974      1618\n",
      "\n",
      "Accuracy: 0.8974042027194067\n",
      "F1 Score: 0.9\n",
      "Confusion Matrix:\n",
      " [[705  99]\n",
      " [ 67 747]]\n",
      "\n",
      "\n",
      "==== MLP ====\n",
      "              precision    recall  f1-score   support\n",
      "\n",
      "           0     0.7741    0.9291    0.8445       804\n",
      "           1     0.9127    0.7322    0.8125       814\n",
      "\n",
      "    accuracy                         0.8300      1618\n",
      "   macro avg     0.8434    0.8306    0.8285      1618\n",
      "weighted avg     0.8438    0.8300    0.8284      1618\n",
      "\n",
      "Accuracy: 0.8300370828182941\n",
      "F1 Score: 0.8125426039536469\n",
      "Confusion Matrix:\n",
      " [[747  57]\n",
      " [218 596]]\n",
      "\n",
      "\n"
     ]
    }
   ],
   "source": [
    "import joblib\n",
    "from sklearn.metrics import classification_report, accuracy_score, f1_score, confusion_matrix\n",
    "\n",
    "# Model dosyalarının yolu (klasör adı farklıysa değiştir)\n",
    "model_dir = \"models/\"\n",
    "\n",
    "# Tüm modelleri yükle\n",
    "naive_bayes = joblib.load(model_dir + \"naive_bayes_model.pkl\")\n",
    "svm = joblib.load(model_dir + \"svm_model.pkl\")\n",
    "lgbm = joblib.load(model_dir + \"lightgbm_model.pkl\")\n",
    "mlp = joblib.load(model_dir + \"mlp_model.pkl\")\n",
    "tfidf = joblib.load(model_dir + \"tfidf_vectorizer.pkl\")\n",
    "X_test = joblib.load(model_dir + \"X_test_combined.pkl\")\n",
    "y_test = joblib.load(model_dir + \"y_test_labels.pkl\")\n",
    "\n",
    "# Modelleri test et ve sonuçları yazdır\n",
    "models = {\n",
    "    \"Naive Bayes\": naive_bayes,\n",
    "    \"SVM\": svm,\n",
    "    \"LightGBM\": lgbm,\n",
    "    \"MLP\": mlp\n",
    "}\n",
    "\n",
    "for name, model in models.items():\n",
    "    y_pred = model.predict(X_test)\n",
    "    print(f\"==== {name} ====\")\n",
    "    print(classification_report(y_test, y_pred, digits=4))\n",
    "    print(\"Accuracy:\", accuracy_score(y_test, y_pred))\n",
    "    print(\"F1 Score:\", f1_score(y_test, y_pred))\n",
    "    print(\"Confusion Matrix:\\n\", confusion_matrix(y_test, y_pred))\n",
    "    print(\"\\n\")\n"
   ]
  }
 ],
 "metadata": {
  "kernelspec": {
   "display_name": "Python [conda env:base] *",
   "language": "python",
   "name": "conda-base-py"
  },
  "language_info": {
   "codemirror_mode": {
    "name": "ipython",
    "version": 3
   },
   "file_extension": ".py",
   "mimetype": "text/x-python",
   "name": "python",
   "nbconvert_exporter": "python",
   "pygments_lexer": "ipython3",
   "version": "3.12.3"
  }
 },
 "nbformat": 4,
 "nbformat_minor": 5
}
