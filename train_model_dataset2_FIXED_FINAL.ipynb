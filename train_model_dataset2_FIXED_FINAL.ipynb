{
 "cells": [
  {
   "cell_type": "markdown",
   "id": "f4a3231e",
   "metadata": {},
   "source": [
    "# Train Model Notebook\n",
    "Bu dosya veri setini yükler, önişleme yapar ve modelleri eğitir."
   ]
  },
  {
   "cell_type": "code",
   "execution_count": 2,
   "id": "2391e597",
   "metadata": {},
   "outputs": [],
   "source": [
    "import pandas as pd\n",
    "import numpy as np\n",
    "import re\n",
    "from sklearn.feature_extraction.text import TfidfVectorizer\n",
    "from sklearn.model_selection import train_test_split\n",
    "from scipy.sparse import hstack\n",
    "from sklearn.naive_bayes import MultinomialNB\n",
    "from sklearn.svm import LinearSVC\n",
    "from sklearn.neural_network import MLPClassifier\n",
    "from sklearn.metrics import classification_report, confusion_matrix, roc_auc_score\n",
    "import joblib\n",
    "import matplotlib.pyplot as plt\n",
    "import seaborn as sns\n",
    "import os"
   ]
  },
  {
   "cell_type": "code",
   "execution_count": 3,
   "id": "1cb3440c",
   "metadata": {},
   "outputs": [],
   "source": [
    "# Veri setini yükle\n",
    "file_path = 'data/fake_reviews_dataset2.csv'  # dosya adını kontrol et!\n",
    "dfall = pd.read_csv(file_path)\n",
    "df = dfall.sample(frac=0.6, random_state=42)  \n",
    "df['label'] = df['label'].map({'CG': 0, 'OR': 1})\n",
    "df = df.rename(columns={'text_': 'review'})"
   ]
  },
  {
   "cell_type": "code",
   "execution_count": 4,
   "id": "6f626e2d",
   "metadata": {},
   "outputs": [],
   "source": [
    "# Temizleme ve öznitelik çıkarımı\n",
    "def clean_text(text):\n",
    "    text = str(text).lower()\n",
    "    text = re.sub(r'<.*?>', '', text)\n",
    "    text = re.sub(r'[^a-z\\s]', '', text)\n",
    "    return text\n",
    "\n",
    "df['clean_review'] = df['review'].apply(clean_text)\n",
    "df['review_length'] = df['review'].apply(lambda x: len(str(x)))\n",
    "df['exclamation_count'] = df['review'].apply(lambda x: str(x).count('!'))\n",
    "df['capital_word_ratio'] = df['review'].apply(lambda x: len([w for w in str(x).split() if w.isupper()]) / (len(str(x).split()) + 1e-5))"
   ]
  },
  {
   "cell_type": "code",
   "execution_count": 5,
   "id": "ab5261b5",
   "metadata": {},
   "outputs": [],
   "source": [
    "# TF-IDF + Sayısal birleştirme\n",
    "tfidf = TfidfVectorizer(ngram_range=(1, 2), max_features=5000)\n",
    "X_tfidf = tfidf.fit_transform(df['clean_review'])\n",
    "X_numeric = df[['review_length', 'exclamation_count', 'capital_word_ratio']].values\n",
    "X_combined = hstack([X_tfidf, X_numeric])\n",
    "y = df['label'].values\n",
    "X_train, X_test, y_train, y_test = train_test_split(X_combined, y, test_size=0.2, random_state=42, stratify=y)"
   ]
  },
  {
   "cell_type": "code",
   "execution_count": 6,
   "id": "dee8a327",
   "metadata": {},
   "outputs": [
    {
     "data": {
      "text/plain": [
       "['models/y_test_labels_dataset2.pkl']"
      ]
     },
     "execution_count": 6,
     "metadata": {},
     "output_type": "execute_result"
    }
   ],
   "source": [
    "\n",
    "# X_test ve y_test'i kaydet\n",
    "joblib.dump(X_test, 'models/X_test_combined_dataset2.pkl')\n",
    "joblib.dump(y_test, 'models/y_test_labels_dataset2.pkl')\n"
   ]
  },
  {
   "cell_type": "code",
   "execution_count": 7,
   "id": "f15b787a",
   "metadata": {},
   "outputs": [
    {
     "data": {
      "text/plain": [
       "['models/tfidf_vectorizer_dataset2.pkl']"
      ]
     },
     "execution_count": 7,
     "metadata": {},
     "output_type": "execute_result"
    }
   ],
   "source": [
    "\n",
    "# TF-IDF vektörleştiricisini kaydet\n",
    "joblib.dump(tfidf, 'models/tfidf_vectorizer_dataset2.pkl')\n"
   ]
  },
  {
   "cell_type": "code",
   "execution_count": 8,
   "id": "3e64f5b3",
   "metadata": {},
   "outputs": [],
   "source": [
    "# [Yorumlandı - optimize edilmemiş model]\n",
    "# # Model eğitimi\n",
    "# os.makedirs('modeller', exist_ok=True)\n",
    "# nb_model = MultinomialNB().fit(X_train, y_train)\n",
    "# joblib.dump(nb_model, 'modeller/naive_bayes_model_dataset2.pkl')\n",
    "# svm_model = LinearSVC().fit(X_train, y_train)\n",
    "# joblib.dump(svm_model, 'modeller/svm_model_dataset2.pkl')\n",
    "# mlp_model = MLPClassifier(hidden_layer_sizes=(100,), max_iter=300, random_state=42).fit(X_train, y_train)\n",
    "# joblib.dump(mlp_model, 'modeller/mlp_model_dataset2.pkl')"
   ]
  },
  {
   "cell_type": "code",
   "execution_count": 9,
   "id": "dfe1c8fb",
   "metadata": {},
   "outputs": [
    {
     "name": "stdout",
     "output_type": "stream",
     "text": [
      "Fitting 3 folds for each of 16 candidates, totalling 48 fits\n"
     ]
    },
    {
     "name": "stderr",
     "output_type": "stream",
     "text": [
      "C:\\Users\\kayra\\anaconda3\\Lib\\site-packages\\joblib\\externals\\loky\\backend\\context.py:136: UserWarning: Could not find the number of physical cores for the following reason:\n",
      "[WinError 2] Sistem belirtilen dosyayı bulamıyor\n",
      "Returning the number of logical cores instead. You can silence this warning by setting LOKY_MAX_CPU_COUNT to the number of cores you want to use.\n",
      "  warnings.warn(\n",
      "  File \"C:\\Users\\kayra\\anaconda3\\Lib\\site-packages\\joblib\\externals\\loky\\backend\\context.py\", line 257, in _count_physical_cores\n",
      "    cpu_info = subprocess.run(\n",
      "               ^^^^^^^^^^^^^^^\n",
      "  File \"C:\\Users\\kayra\\anaconda3\\Lib\\subprocess.py\", line 548, in run\n",
      "    with Popen(*popenargs, **kwargs) as process:\n",
      "         ^^^^^^^^^^^^^^^^^^^^^^^^^^^\n",
      "  File \"C:\\Users\\kayra\\anaconda3\\Lib\\subprocess.py\", line 1026, in __init__\n",
      "    self._execute_child(args, executable, preexec_fn, close_fds,\n",
      "  File \"C:\\Users\\kayra\\anaconda3\\Lib\\subprocess.py\", line 1538, in _execute_child\n",
      "    hp, ht, pid, tid = _winapi.CreateProcess(executable, args,\n",
      "                       ^^^^^^^^^^^^^^^^^^^^^^^^^^^^^^^^^^^^^^^\n"
     ]
    },
    {
     "name": "stdout",
     "output_type": "stream",
     "text": [
      "[LightGBM] [Info] Number of positive: 3256, number of negative: 3212\n",
      "[LightGBM] [Info] Auto-choosing col-wise multi-threading, the overhead of testing was 0.082124 seconds.\n",
      "You can set `force_col_wise=true` to remove the overhead.\n",
      "[LightGBM] [Info] Total Bins 106886\n",
      "[LightGBM] [Info] Number of data points in the train set: 6468, number of used features: 3514\n",
      "[LightGBM] [Info] [binary:BoostFromScore]: pavg=0.503401 -> initscore=0.013606\n",
      "[LightGBM] [Info] Start training from score 0.013606\n",
      "[LightGBM] [Warning] No further splits with positive gain, best gain: -inf\n",
      "[LightGBM] [Warning] No further splits with positive gain, best gain: -inf\n",
      "[LightGBM] [Warning] No further splits with positive gain, best gain: -inf\n",
      "[LightGBM] [Warning] No further splits with positive gain, best gain: -inf\n",
      "[LightGBM] [Warning] No further splits with positive gain, best gain: -inf\n",
      "En iyi parametreler: {'learning_rate': 0.1, 'max_depth': 10, 'n_estimators': 300, 'num_leaves': 15}\n"
     ]
    },
    {
     "data": {
      "text/plain": [
       "['models/lightgbm_model_dataset2.pkl']"
      ]
     },
     "execution_count": 9,
     "metadata": {},
     "output_type": "execute_result"
    }
   ],
   "source": [
    "from sklearn.model_selection import GridSearchCV\n",
    "import lightgbm as lgb\n",
    "\n",
    "# LightGBM için parametre aralığı\n",
    "param_grid = {\n",
    "    'learning_rate': [0.01, 0.1],\n",
    "    'n_estimators': [100, 300],\n",
    "    'max_depth': [5, 10],\n",
    "    'num_leaves': [15, 31]\n",
    "}\n",
    "\n",
    "# GridSearch ile model optimizasyonu\n",
    "lgb_model = lgb.LGBMClassifier(random_state=42)\n",
    "grid_lgb = GridSearchCV(lgb_model, param_grid, cv=3, scoring='f1_macro', verbose=1, n_jobs=-1)\n",
    "grid_lgb.fit(X_train, y_train)\n",
    "\n",
    "print(\"En iyi parametreler:\", grid_lgb.best_params_)\n",
    "\n",
    "# En iyi model\n",
    "best_lgb_model = grid_lgb.best_estimator_\n",
    "joblib.dump(best_lgb_model, \"models/lightgbm_model_dataset2.pkl\")\n"
   ]
  },
  {
   "cell_type": "code",
   "execution_count": 10,
   "id": "f5659a2f",
   "metadata": {},
   "outputs": [],
   "source": [
    "#from tensorflow.keras.preprocessing.text import Tokenizer\n",
    "#from tensorflow.keras.preprocessing.sequence import pad_sequences\n",
    "#from tensorflow.keras.models import Sequential\n",
    "#from tensorflow.keras.layers import Embedding, LSTM, Dense, Dropout\n",
    "#from tensorflow.keras.callbacks import EarlyStopping\n",
    "#from tensorflow.keras.models import load_model\n",
    "\n",
    "# Tokenizer ayarları\n",
    "#tokenizer = Tokenizer(num_words=10000)\n",
    "#tokenizer.fit_on_texts(df['clean_review'])\n",
    "\n",
    "#X_seq = tokenizer.texts_to_sequences(df['clean_review'])\n",
    "#X_pad = pad_sequences(X_seq, maxlen=200)\n",
    "#y_lstm = df['label'].values\n",
    "\n",
    "# Eğitim/test ayır\n",
    "#X_train_lstm, X_test_lstm, y_train_lstm, y_test_lstm = train_test_split(X_pad, y_lstm, test_size=0.2, stratify=y_lstm, random_state=42)\n",
    "\n",
    "# Model mimarisi\n",
    "#model = Sequential()\n",
    "#model.add(Embedding(input_dim=10000, output_dim=64, input_length=200))\n",
    "#model.add(LSTM(64, dropout=0.2, recurrent_dropout=0.2))\n",
    "#model.add(Dense(1, activation='sigmoid'))\n",
    "\n",
    "#model.compile(loss='binary_crossentropy', optimizer='adam', metrics=['accuracy'])\n",
    "\n",
    "# Eğitim\n",
    "#early = EarlyStopping(patience=2, restore_best_weights=True)\n",
    "#model.fit(X_train_lstm, y_train_lstm, validation_split=0.2, epochs=10, batch_size=128, callbacks=[early])\n",
    "\n",
    "# Kaydet\n",
    "#model.save(\"models/lstm_model_dataset2.h5\")\n",
    "#joblib.dump(tokenizer, \"models/lstm_tokenizer_dataset2.pkl\")\n"
   ]
  },
  {
   "cell_type": "code",
   "execution_count": 11,
   "id": "410edd3d",
   "metadata": {},
   "outputs": [],
   "source": [
    "\n",
    "# LSTM test verilerini kaydet\n",
    "#joblib.dump(X_test_lstm, \"models/X_test_lstm_dataset2.pkl\")\n",
    "#joblib.dump(y_test_lstm, \"models/y_test_lstm_dataset2.pkl\")\n"
   ]
  },
  {
   "cell_type": "code",
   "execution_count": 12,
   "id": "118a2bf8",
   "metadata": {},
   "outputs": [
    {
     "data": {
      "text/plain": [
       "['models/naive_bayes_model_dataset2.pkl']"
      ]
     },
     "execution_count": 12,
     "metadata": {},
     "output_type": "execute_result"
    }
   ],
   "source": [
    "\n",
    "from sklearn.model_selection import GridSearchCV\n",
    "from sklearn.naive_bayes import MultinomialNB\n",
    "\n",
    "nb_params = {'alpha': [0.1, 0.5, 1.0]}\n",
    "nb_grid = GridSearchCV(MultinomialNB(), nb_params, cv=3, scoring='f1_macro')\n",
    "nb_grid.fit(X_train, y_train)\n",
    "best_nb = nb_grid.best_estimator_\n",
    "joblib.dump(best_nb, \"models/naive_bayes_model_dataset2.pkl\")\n"
   ]
  },
  {
   "cell_type": "code",
   "execution_count": 13,
   "id": "546659a6",
   "metadata": {},
   "outputs": [
    {
     "name": "stderr",
     "output_type": "stream",
     "text": [
      "C:\\Users\\kayra\\anaconda3\\Lib\\site-packages\\sklearn\\svm\\_base.py:1235: ConvergenceWarning: Liblinear failed to converge, increase the number of iterations.\n",
      "  warnings.warn(\n",
      "C:\\Users\\kayra\\anaconda3\\Lib\\site-packages\\sklearn\\svm\\_base.py:1235: ConvergenceWarning: Liblinear failed to converge, increase the number of iterations.\n",
      "  warnings.warn(\n",
      "C:\\Users\\kayra\\anaconda3\\Lib\\site-packages\\sklearn\\svm\\_base.py:1235: ConvergenceWarning: Liblinear failed to converge, increase the number of iterations.\n",
      "  warnings.warn(\n",
      "C:\\Users\\kayra\\anaconda3\\Lib\\site-packages\\sklearn\\svm\\_base.py:1235: ConvergenceWarning: Liblinear failed to converge, increase the number of iterations.\n",
      "  warnings.warn(\n",
      "C:\\Users\\kayra\\anaconda3\\Lib\\site-packages\\sklearn\\svm\\_base.py:1235: ConvergenceWarning: Liblinear failed to converge, increase the number of iterations.\n",
      "  warnings.warn(\n",
      "C:\\Users\\kayra\\anaconda3\\Lib\\site-packages\\sklearn\\svm\\_base.py:1235: ConvergenceWarning: Liblinear failed to converge, increase the number of iterations.\n",
      "  warnings.warn(\n",
      "C:\\Users\\kayra\\anaconda3\\Lib\\site-packages\\sklearn\\svm\\_base.py:1235: ConvergenceWarning: Liblinear failed to converge, increase the number of iterations.\n",
      "  warnings.warn(\n",
      "C:\\Users\\kayra\\anaconda3\\Lib\\site-packages\\sklearn\\svm\\_base.py:1235: ConvergenceWarning: Liblinear failed to converge, increase the number of iterations.\n",
      "  warnings.warn(\n",
      "C:\\Users\\kayra\\anaconda3\\Lib\\site-packages\\sklearn\\svm\\_base.py:1235: ConvergenceWarning: Liblinear failed to converge, increase the number of iterations.\n",
      "  warnings.warn(\n"
     ]
    },
    {
     "data": {
      "text/plain": [
       "['models/svm_model_dataset2.pkl']"
      ]
     },
     "execution_count": 13,
     "metadata": {},
     "output_type": "execute_result"
    }
   ],
   "source": [
    "\n",
    "from sklearn.svm import LinearSVC\n",
    "\n",
    "svm_params = {'C': [0.1, 1.0, 10.0]}\n",
    "svm_grid = GridSearchCV(LinearSVC(), svm_params, cv=3, scoring='f1_macro')\n",
    "svm_grid.fit(X_train, y_train)\n",
    "best_svm = svm_grid.best_estimator_\n",
    "joblib.dump(best_svm, \"models/svm_model_dataset2.pkl\")\n"
   ]
  },
  {
   "cell_type": "code",
   "execution_count": 14,
   "id": "0436f214",
   "metadata": {},
   "outputs": [
    {
     "data": {
      "text/plain": [
       "['models/mlp_model_dataset2.pkl']"
      ]
     },
     "execution_count": 14,
     "metadata": {},
     "output_type": "execute_result"
    }
   ],
   "source": [
    "\n",
    "from sklearn.neural_network import MLPClassifier\n",
    "\n",
    "mlp_params = {\n",
    "    'hidden_layer_sizes': [(64,), (100,)],\n",
    "    'alpha': [0.0001, 0.001],\n",
    "    'learning_rate': ['constant', 'adaptive']\n",
    "}\n",
    "mlp_grid = GridSearchCV(MLPClassifier(max_iter=300), mlp_params, cv=3, scoring='f1_macro')\n",
    "mlp_grid.fit(X_train, y_train)\n",
    "best_mlp = mlp_grid.best_estimator_\n",
    "joblib.dump(best_mlp, \"models/mlp_model_dataset2.pkl\")\n"
   ]
  }
 ],
 "metadata": {
  "kernelspec": {
   "display_name": "Python [conda env:base] *",
   "language": "python",
   "name": "conda-base-py"
  },
  "language_info": {
   "codemirror_mode": {
    "name": "ipython",
    "version": 3
   },
   "file_extension": ".py",
   "mimetype": "text/x-python",
   "name": "python",
   "nbconvert_exporter": "python",
   "pygments_lexer": "ipython3",
   "version": "3.12.3"
  }
 },
 "nbformat": 4,
 "nbformat_minor": 5
}
